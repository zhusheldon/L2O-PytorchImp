{
 "cells": [
  {
   "cell_type": "code",
   "execution_count": 6,
   "metadata": {},
   "outputs": [],
   "source": [
    "import torch\n",
    "import copy"
   ]
  },
  {
   "cell_type": "code",
   "execution_count": 17,
   "metadata": {},
   "outputs": [
    {
     "name": "stdout",
     "output_type": "stream",
     "text": [
      "1920525328576\n",
      "1920525328576\n",
      "tensor([2., 3.])\n",
      "tensor([2., 3.])\n"
     ]
    }
   ],
   "source": [
    "a = torch.Tensor([1,2])\n",
    "b=a\n",
    "print(a.data_ptr())\n",
    "print(b.data_ptr())\n",
    "a+=1\n",
    "print(a)\n",
    "print(b)\n"
   ]
  }
 ],
 "metadata": {
  "kernelspec": {
   "display_name": "Python 3.8.13 ('Pytorch')",
   "language": "python",
   "name": "python3"
  },
  "language_info": {
   "codemirror_mode": {
    "name": "ipython",
    "version": 3
   },
   "file_extension": ".py",
   "mimetype": "text/x-python",
   "name": "python",
   "nbconvert_exporter": "python",
   "pygments_lexer": "ipython3",
   "version": "3.8.13"
  },
  "orig_nbformat": 4,
  "vscode": {
   "interpreter": {
    "hash": "f49dcb38d72f9b56462796013c1d5e14d51b544c1c65dde3c79164d9a2218f8d"
   }
  }
 },
 "nbformat": 4,
 "nbformat_minor": 2
}
